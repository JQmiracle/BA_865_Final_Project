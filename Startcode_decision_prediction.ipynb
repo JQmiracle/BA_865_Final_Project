{
  "nbformat": 4,
  "nbformat_minor": 0,
  "metadata": {
    "colab": {
      "name": "Startcode_decision prediction.ipynb",
      "provenance": [],
      "collapsed_sections": [],
      "mount_file_id": "1bCsq5sMMs-xvaFmsIlxxBxBmA1yb-ldk",
      "authorship_tag": "ABX9TyPhTjApjj7Sc0QZX2lwDdVY",
      "include_colab_link": true
    },
    "kernelspec": {
      "name": "python3",
      "display_name": "Python 3"
    },
    "language_info": {
      "name": "python"
    }
  },
  "cells": [
    {
      "cell_type": "markdown",
      "metadata": {
        "id": "view-in-github",
        "colab_type": "text"
      },
      "source": [
        "<a href=\"https://colab.research.google.com/github/JQmiracle/BA_865_Final_Project/blob/main/Startcode_decision_prediction.ipynb\" target=\"_parent\"><img src=\"https://colab.research.google.com/assets/colab-badge.svg\" alt=\"Open In Colab\"/></a>"
      ]
    },
    {
      "cell_type": "markdown",
      "source": [
        "# Imports"
      ],
      "metadata": {
        "id": "DYkZWOC83KTv"
      }
    },
    {
      "cell_type": "code",
      "execution_count": null,
      "metadata": {
        "id": "ANMMESHhPd_R"
      },
      "outputs": [],
      "source": [
        "# !pip install pandas\n",
        "# !pip install numpy\n",
        "# !pip install sklearn\n",
        "\n",
        "import pandas as pd\n",
        "import numpy as np\n",
        "\n",
        "from sklearn.model_selection import train_test_split\n",
        "from sklearn.metrics import classification_report\n",
        "from sklearn.feature_extraction.text import TfidfVectorizer\n",
        "\n",
        "from sklearn.neural_network import MLPClassifier\n",
        "from sklearn.linear_model import Perceptron\n",
        "from sklearn.svm import LinearSVC\n",
        "from sklearn.linear_model import LogisticRegression\n",
        "from sklearn.naive_bayes import MultinomialNB\n",
        "from sklearn.neighbors import KNeighborsClassifier\n",
        "from sklearn.ensemble import VotingClassifier\n",
        "from sklearn.calibration import CalibratedClassifierCV\n",
        "\n",
        "# Just for visuals\n",
        "pd.set_option('display.max_colwidth', None)"
      ]
    },
    {
      "cell_type": "markdown",
      "source": [
        "# Dataset Preparation"
      ],
      "metadata": {
        "id": "GKynsKKs3PcH"
      }
    },
    {
      "cell_type": "code",
      "source": [
        "from google.colab import drive\n",
        "drive.mount('/content/drive')"
      ],
      "metadata": {
        "colab": {
          "base_uri": "https://localhost:8080/"
        },
        "id": "ndb1LlyGXfzc",
        "outputId": "dc22f6e3-2e48-4e68-b96d-48f0f272d857"
      },
      "execution_count": null,
      "outputs": [
        {
          "output_type": "stream",
          "name": "stdout",
          "text": [
            "Mounted at /content/drive\n"
          ]
        }
      ]
    },
    {
      "cell_type": "code",
      "source": [
        "df = pd.read_pickle('/content/drive/MyDrive/BA865_Team/task1_data.pkl')\n",
        "df.rename(columns={'Facts': 'facts'}, inplace=True)\n",
        "df.drop(columns=['index'], inplace=True)\n",
        "df.reset_index(inplace=True)\n",
        "\n",
        "print(f'There are {len(df)} cases.')"
      ],
      "metadata": {
        "colab": {
          "base_uri": "https://localhost:8080/"
        },
        "id": "Oj2Es86aWI-h",
        "outputId": "eebb5858-41a0-4f29-8dd4-49eb6f808575"
      },
      "execution_count": null,
      "outputs": [
        {
          "output_type": "stream",
          "name": "stdout",
          "text": [
            "There are 3464 cases.\n"
          ]
        }
      ]
    },
    {
      "cell_type": "code",
      "source": [
        "# Create a mirrored case for each case, where the parties are swapped to prevent favoring first_party\n",
        "df_list = df.values.tolist()\n",
        "result = []\n",
        "for row in df_list:\n",
        "    result.append(row[1:])\n",
        "    mirrored_row = row.copy()\n",
        "    #  first_party is at index=4, second=5, winner_index=7\n",
        "    mirrored_row[4] = row[5]\n",
        "    mirrored_row[5] = row[4]\n",
        "    mirrored_row[7] = 1-mirrored_row[7]\n",
        "    result.append(mirrored_row[1:])\n",
        "df2 = pd.DataFrame(result)\n",
        "df2.rename(columns={\n",
        "    0: 'ID',\n",
        "    1: 'name',\n",
        "    2: 'href',\n",
        "    3: 'first_party',\n",
        "    4: 'second_party',\n",
        "    5: 'winning_party',\n",
        "    6: 'winner_index',\n",
        "    7: 'facts',\n",
        "}, inplace=True)\n",
        "df = df2\n",
        "df.reset_index(inplace=True)"
      ],
      "metadata": {
        "id": "a8cKuYdpYD6R"
      },
      "execution_count": null,
      "outputs": []
    },
    {
      "cell_type": "code",
      "source": [
        "avg_char = df['facts'].apply(lambda x: len(str(x))).mean()\n",
        "print(f'Average facts character length: {avg_char:.0f}')\n",
        "\n",
        "avg_word = df['facts'].apply(lambda x: len(str(x).split())).mean()\n",
        "print(f'Average facts word length: {avg_word:.0f}')\n",
        "\n",
        "del avg_char, avg_word"
      ],
      "metadata": {
        "colab": {
          "base_uri": "https://localhost:8080/"
        },
        "id": "lF4JUWYaYGkD",
        "outputId": "48fb5923-3299-4fe2-d6cc-65f81935f800"
      },
      "execution_count": null,
      "outputs": [
        {
          "output_type": "stream",
          "name": "stdout",
          "text": [
            "Average facts character length: 1179\n",
            "Average facts word length: 189\n"
          ]
        }
      ]
    },
    {
      "cell_type": "code",
      "source": [
        "display(df.head(n=3))"
      ],
      "metadata": {
        "colab": {
          "base_uri": "https://localhost:8080/",
          "height": 552
        },
        "id": "_VgBJIbzYJBY",
        "outputId": "d8839744-4713-4ae9-983d-b4145c78d619"
      },
      "execution_count": null,
      "outputs": [
        {
          "output_type": "display_data",
          "data": {
            "text/html": [
              "\n",
              "  <div id=\"df-aeb0a700-1913-4905-abf4-086a7be7e9f9\">\n",
              "    <div class=\"colab-df-container\">\n",
              "      <div>\n",
              "<style scoped>\n",
              "    .dataframe tbody tr th:only-of-type {\n",
              "        vertical-align: middle;\n",
              "    }\n",
              "\n",
              "    .dataframe tbody tr th {\n",
              "        vertical-align: top;\n",
              "    }\n",
              "\n",
              "    .dataframe thead th {\n",
              "        text-align: right;\n",
              "    }\n",
              "</style>\n",
              "<table border=\"1\" class=\"dataframe\">\n",
              "  <thead>\n",
              "    <tr style=\"text-align: right;\">\n",
              "      <th></th>\n",
              "      <th>index</th>\n",
              "      <th>ID</th>\n",
              "      <th>name</th>\n",
              "      <th>href</th>\n",
              "      <th>first_party</th>\n",
              "      <th>second_party</th>\n",
              "      <th>winning_party</th>\n",
              "      <th>winner_index</th>\n",
              "      <th>facts</th>\n",
              "    </tr>\n",
              "  </thead>\n",
              "  <tbody>\n",
              "    <tr>\n",
              "      <th>0</th>\n",
              "      <td>0</td>\n",
              "      <td>50606</td>\n",
              "      <td>Roe v. Wade</td>\n",
              "      <td>https://api.oyez.org/cases/1971/70-18</td>\n",
              "      <td>Jane Roe</td>\n",
              "      <td>Henry Wade</td>\n",
              "      <td>Jane Roe</td>\n",
              "      <td>0</td>\n",
              "      <td>In 1970, Jane Roe (a fictional name used in court documents to protect the plaintiff’s identity) filed a lawsuit against Henry Wade, the district attorney of Dallas County, Texas, where she resided, challenging a Texas law making abortion illegal except by a doctor’s orders to save a woman’s life. In her lawsuit, Roe alleged that the state laws were unconstitutionally vague and abridged her right of personal privacy, protected by the First, Fourth, Fifth, Ninth, and Fourteenth Amendments.</td>\n",
              "    </tr>\n",
              "    <tr>\n",
              "      <th>1</th>\n",
              "      <td>1</td>\n",
              "      <td>50606</td>\n",
              "      <td>Roe v. Wade</td>\n",
              "      <td>https://api.oyez.org/cases/1971/70-18</td>\n",
              "      <td>Henry Wade</td>\n",
              "      <td>Jane Roe</td>\n",
              "      <td>Jane Roe</td>\n",
              "      <td>1</td>\n",
              "      <td>In 1970, Jane Roe (a fictional name used in court documents to protect the plaintiff’s identity) filed a lawsuit against Henry Wade, the district attorney of Dallas County, Texas, where she resided, challenging a Texas law making abortion illegal except by a doctor’s orders to save a woman’s life. In her lawsuit, Roe alleged that the state laws were unconstitutionally vague and abridged her right of personal privacy, protected by the First, Fourth, Fifth, Ninth, and Fourteenth Amendments.</td>\n",
              "    </tr>\n",
              "    <tr>\n",
              "      <th>2</th>\n",
              "      <td>2</td>\n",
              "      <td>50613</td>\n",
              "      <td>Stanley v. Illinois</td>\n",
              "      <td>https://api.oyez.org/cases/1971/70-5014</td>\n",
              "      <td>Peter Stanley, Sr.</td>\n",
              "      <td>Illinois</td>\n",
              "      <td>Stanley</td>\n",
              "      <td>0</td>\n",
              "      <td>Joan Stanley had three children with Peter Stanley. The Stanleys never married, but lived together off and on for 18 years. When Joan died, the State of Illinois took the children. Under Illinois law, unwed fathers were presumed unfit parents regardless of their actual fitness and their children became wards of the state. Peter appealed the decision, arguing that the Illinois law violated the Equal Protection Clause of the Fourteenth Amendment because unwed mothers were not deprived of their children without a showing that they were actually unfit parents. The Illinois Supreme Court rejected Stanley’s Equal Protection claim, holding that his actual fitness as a parent was irrelevant because he and the children’s mother were unmarried.</td>\n",
              "    </tr>\n",
              "  </tbody>\n",
              "</table>\n",
              "</div>\n",
              "      <button class=\"colab-df-convert\" onclick=\"convertToInteractive('df-aeb0a700-1913-4905-abf4-086a7be7e9f9')\"\n",
              "              title=\"Convert this dataframe to an interactive table.\"\n",
              "              style=\"display:none;\">\n",
              "        \n",
              "  <svg xmlns=\"http://www.w3.org/2000/svg\" height=\"24px\"viewBox=\"0 0 24 24\"\n",
              "       width=\"24px\">\n",
              "    <path d=\"M0 0h24v24H0V0z\" fill=\"none\"/>\n",
              "    <path d=\"M18.56 5.44l.94 2.06.94-2.06 2.06-.94-2.06-.94-.94-2.06-.94 2.06-2.06.94zm-11 1L8.5 8.5l.94-2.06 2.06-.94-2.06-.94L8.5 2.5l-.94 2.06-2.06.94zm10 10l.94 2.06.94-2.06 2.06-.94-2.06-.94-.94-2.06-.94 2.06-2.06.94z\"/><path d=\"M17.41 7.96l-1.37-1.37c-.4-.4-.92-.59-1.43-.59-.52 0-1.04.2-1.43.59L10.3 9.45l-7.72 7.72c-.78.78-.78 2.05 0 2.83L4 21.41c.39.39.9.59 1.41.59.51 0 1.02-.2 1.41-.59l7.78-7.78 2.81-2.81c.8-.78.8-2.07 0-2.86zM5.41 20L4 18.59l7.72-7.72 1.47 1.35L5.41 20z\"/>\n",
              "  </svg>\n",
              "      </button>\n",
              "      \n",
              "  <style>\n",
              "    .colab-df-container {\n",
              "      display:flex;\n",
              "      flex-wrap:wrap;\n",
              "      gap: 12px;\n",
              "    }\n",
              "\n",
              "    .colab-df-convert {\n",
              "      background-color: #E8F0FE;\n",
              "      border: none;\n",
              "      border-radius: 50%;\n",
              "      cursor: pointer;\n",
              "      display: none;\n",
              "      fill: #1967D2;\n",
              "      height: 32px;\n",
              "      padding: 0 0 0 0;\n",
              "      width: 32px;\n",
              "    }\n",
              "\n",
              "    .colab-df-convert:hover {\n",
              "      background-color: #E2EBFA;\n",
              "      box-shadow: 0px 1px 2px rgba(60, 64, 67, 0.3), 0px 1px 3px 1px rgba(60, 64, 67, 0.15);\n",
              "      fill: #174EA6;\n",
              "    }\n",
              "\n",
              "    [theme=dark] .colab-df-convert {\n",
              "      background-color: #3B4455;\n",
              "      fill: #D2E3FC;\n",
              "    }\n",
              "\n",
              "    [theme=dark] .colab-df-convert:hover {\n",
              "      background-color: #434B5C;\n",
              "      box-shadow: 0px 1px 3px 1px rgba(0, 0, 0, 0.15);\n",
              "      filter: drop-shadow(0px 1px 2px rgba(0, 0, 0, 0.3));\n",
              "      fill: #FFFFFF;\n",
              "    }\n",
              "  </style>\n",
              "\n",
              "      <script>\n",
              "        const buttonEl =\n",
              "          document.querySelector('#df-aeb0a700-1913-4905-abf4-086a7be7e9f9 button.colab-df-convert');\n",
              "        buttonEl.style.display =\n",
              "          google.colab.kernel.accessAllowed ? 'block' : 'none';\n",
              "\n",
              "        async function convertToInteractive(key) {\n",
              "          const element = document.querySelector('#df-aeb0a700-1913-4905-abf4-086a7be7e9f9');\n",
              "          const dataTable =\n",
              "            await google.colab.kernel.invokeFunction('convertToInteractive',\n",
              "                                                     [key], {});\n",
              "          if (!dataTable) return;\n",
              "\n",
              "          const docLinkHtml = 'Like what you see? Visit the ' +\n",
              "            '<a target=\"_blank\" href=https://colab.research.google.com/notebooks/data_table.ipynb>data table notebook</a>'\n",
              "            + ' to learn more about interactive tables.';\n",
              "          element.innerHTML = '';\n",
              "          dataTable['output_type'] = 'display_data';\n",
              "          await google.colab.output.renderOutput(dataTable, element);\n",
              "          const docLink = document.createElement('div');\n",
              "          docLink.innerHTML = docLinkHtml;\n",
              "          element.appendChild(docLink);\n",
              "        }\n",
              "      </script>\n",
              "    </div>\n",
              "  </div>\n",
              "  "
            ],
            "text/plain": [
              "   index  ...                                                                                                                                                                                                                                                                                                                                                                                                                                                                                                                                                                                                                                                                                                                                                                     facts\n",
              "0      0  ...                                                                                                                                                                                                                                                             In 1970, Jane Roe (a fictional name used in court documents to protect the plaintiff’s identity) filed a lawsuit against Henry Wade, the district attorney of Dallas County, Texas, where she resided, challenging a Texas law making abortion illegal except by a doctor’s orders to save a woman’s life. In her lawsuit, Roe alleged that the state laws were unconstitutionally vague and abridged her right of personal privacy, protected by the First, Fourth, Fifth, Ninth, and Fourteenth Amendments.\n",
              "1      1  ...                                                                                                                                                                                                                                                             In 1970, Jane Roe (a fictional name used in court documents to protect the plaintiff’s identity) filed a lawsuit against Henry Wade, the district attorney of Dallas County, Texas, where she resided, challenging a Texas law making abortion illegal except by a doctor’s orders to save a woman’s life. In her lawsuit, Roe alleged that the state laws were unconstitutionally vague and abridged her right of personal privacy, protected by the First, Fourth, Fifth, Ninth, and Fourteenth Amendments.\n",
              "2      2  ...  Joan Stanley had three children with Peter Stanley. The Stanleys never married, but lived together off and on for 18 years. When Joan died, the State of Illinois took the children. Under Illinois law, unwed fathers were presumed unfit parents regardless of their actual fitness and their children became wards of the state. Peter appealed the decision, arguing that the Illinois law violated the Equal Protection Clause of the Fourteenth Amendment because unwed mothers were not deprived of their children without a showing that they were actually unfit parents. The Illinois Supreme Court rejected Stanley’s Equal Protection claim, holding that his actual fitness as a parent was irrelevant because he and the children’s mother were unmarried.\n",
              "\n",
              "[3 rows x 9 columns]"
            ]
          },
          "metadata": {}
        }
      ]
    },
    {
      "cell_type": "markdown",
      "source": [
        "# predict the decision of the case"
      ],
      "metadata": {
        "id": "k3N3HBdU3Xeo"
      }
    },
    {
      "cell_type": "code",
      "source": [
        "# # Perform an 80-20 split for training and testing data\n",
        "X_train_party1_text, X_test_party1_text, \\\n",
        "X_train_party2_text, X_test_party2_text, \\\n",
        "X_train_facts_text, X_test_facts_text, \\\n",
        "y_train, y_test = train_test_split(\n",
        "    df['first_party'],\n",
        "    df['second_party'],\n",
        "    df['facts'],\n",
        "    df['winner_index'],\n",
        "    test_size=0.2,\n",
        "    stratify=df['winner_index']\n",
        ")"
      ],
      "metadata": {
        "id": "Pfd3JHaL1kUf"
      },
      "execution_count": null,
      "outputs": []
    },
    {
      "cell_type": "code",
      "source": [
        "# TF-IDF Feature Extraction\n",
        "vectorizer = TfidfVectorizer()\n",
        "X_train_facts = vectorizer.fit_transform(X_train_facts_text)\n",
        "X_test_facts = vectorizer.transform(X_test_facts_text)\n",
        "X_train_party1 = vectorizer.transform(X_train_party1_text)\n",
        "X_test_party1 = vectorizer.transform(X_test_party1_text)\n",
        "X_train_party2 = vectorizer.transform(X_train_party2_text)\n",
        "X_test_party2 = vectorizer.transform(X_test_party2_text)\n",
        "\n",
        "X_train = np.concatenate([X_train_party1.todense(), X_train_party2.todense(), X_train_facts.todense()], axis=1)\n",
        "X_test = np.concatenate([X_test_party1.todense(), X_test_party2.todense(), X_test_facts.todense()], axis=1)\n",
        "\n",
        "del X_train_facts, X_train_party1, X_train_party2\n",
        "del X_test_facts, X_test_party1, X_test_party2"
      ],
      "metadata": {
        "id": "6T59b1v92_Js"
      },
      "execution_count": null,
      "outputs": []
    },
    {
      "cell_type": "code",
      "source": [
        "# Perceptron\n",
        "model_perceptron = Perceptron(\n",
        "    alpha=0.0001,\n",
        "    max_iter=5,\n",
        "    n_iter_no_change=5,\n",
        "    penalty='l1',\n",
        "    tol=1e-3,\n",
        "    validation_fraction=0.1\n",
        ")\n",
        "model_perceptron.fit(X_train, y_train)\n",
        "\n",
        "y_train_pred = model_perceptron.predict(X_train)\n",
        "y_test_pred = model_perceptron.predict(X_test)\n",
        "\n",
        "print('Perceptron - Train\\n', classification_report(y_train, y_train_pred, zero_division=0))\n",
        "print('Perceptron - Test\\n', classification_report(y_test, y_test_pred, zero_division=0))"
      ],
      "metadata": {
        "id": "SCSfMe2F3Czs"
      },
      "execution_count": null,
      "outputs": []
    },
    {
      "cell_type": "markdown",
      "source": [
        "# Simple Neural Network"
      ],
      "metadata": {
        "id": "i0X-gRkl3c4S"
      }
    }
  ]
}