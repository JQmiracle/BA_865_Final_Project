{
  "nbformat": 4,
  "nbformat_minor": 0,
  "metadata": {
    "colab": {
      "name": " Sally_220226_simple models working",
      "provenance": [],
      "collapsed_sections": [],
      "include_colab_link": true
    },
    "kernelspec": {
      "name": "python3",
      "display_name": "Python 3"
    },
    "language_info": {
      "name": "python"
    }
  },
  "cells": [
    {
      "cell_type": "markdown",
      "metadata": {
        "id": "view-in-github",
        "colab_type": "text"
      },
      "source": [
        "<a href=\"https://colab.research.google.com/github/JQmiracle/BA_865_Final_Project/blob/main/Sally_220226_simple_models_working.ipynb\" target=\"_parent\"><img src=\"https://colab.research.google.com/assets/colab-badge.svg\" alt=\"Open In Colab\"/></a>"
      ]
    },
    {
      "cell_type": "code",
      "execution_count": null,
      "metadata": {
        "id": "kNwrNiiKAQQz"
      },
      "outputs": [],
      "source": [
        "# import libararies\n",
        "import pandas as pd\n",
        "import numpy as np\n",
        "import matplotlib.pyplot as plt\n",
        "\n",
        "from sklearn.model_selection import train_test_split\n",
        "from sklearn.metrics import classification_report\n",
        "from sklearn.feature_extraction.text import TfidfVectorizer\n",
        "\n",
        "from sklearn.neural_network import MLPClassifier\n",
        "from sklearn.linear_model import Perceptron\n",
        "from sklearn.svm import LinearSVC\n",
        "from sklearn.linear_model import LogisticRegression\n",
        "from sklearn.naive_bayes import MultinomialNB\n",
        "from sklearn.neighbors import KNeighborsClassifier\n",
        "from sklearn.ensemble import VotingClassifier\n",
        "from sklearn.calibration import CalibratedClassifierCV"
      ]
    },
    {
      "cell_type": "code",
      "source": [
        "df = pd.read_pickle('/content/task1_data.pkl')\n",
        "df.rename(columns={'Facts': 'facts'}, inplace=True)\n",
        "df.drop(columns=['index'], inplace=True)\n",
        "df.reset_index(inplace=True)\n",
        "\n",
        "print(f'There are {len(df)} cases.')"
      ],
      "metadata": {
        "colab": {
          "base_uri": "https://localhost:8080/"
        },
        "id": "Q7TCBqcnAacu",
        "outputId": "806fb4b6-dfc6-471d-f5a0-defd79ef3626"
      },
      "execution_count": null,
      "outputs": [
        {
          "output_type": "stream",
          "name": "stdout",
          "text": [
            "There are 3464 cases.\n"
          ]
        }
      ]
    },
    {
      "cell_type": "code",
      "source": [
        "# Create a mirrored case for each case, where the parties are swapped to prevent favoring first_party\n",
        "df_list = df.values.tolist()\n",
        "result = []\n",
        "for row in df_list:\n",
        "    result.append(row[1:])\n",
        "    mirrored_row = row.copy()\n",
        "    #  first_party is at index=4, second=5, winner_index=7\n",
        "    mirrored_row[4] = row[5]\n",
        "    mirrored_row[5] = row[4]\n",
        "    mirrored_row[7] = 1-mirrored_row[7]\n",
        "    result.append(mirrored_row[1:])\n",
        "df2 = pd.DataFrame(result)\n",
        "df2.rename(columns={\n",
        "    0: 'ID',\n",
        "    1: 'name',\n",
        "    2: 'href',\n",
        "    3: 'first_party',\n",
        "    4: 'second_party',\n",
        "    5: 'winning_party',\n",
        "    6: 'winner_index',\n",
        "    7: 'facts',\n",
        "}, inplace=True)\n",
        "df = df2\n",
        "df.reset_index(inplace=True)"
      ],
      "metadata": {
        "id": "2LLNQr9GA-EZ"
      },
      "execution_count": null,
      "outputs": []
    },
    {
      "cell_type": "code",
      "source": [
        "avg_char = df['facts'].apply(lambda x: len(str(x))).mean()\n",
        "print(f'Average facts character length: {avg_char:.0f}')\n",
        "\n",
        "avg_word = df['facts'].apply(lambda x: len(str(x).split())).mean()\n",
        "print(f'Average facts word length: {avg_word:.0f}')\n",
        "\n",
        "del avg_char, avg_word"
      ],
      "metadata": {
        "colab": {
          "base_uri": "https://localhost:8080/"
        },
        "id": "1qBzXAAgBb0h",
        "outputId": "bf9872ba-6754-4deb-8b10-cc4cc578828f"
      },
      "execution_count": null,
      "outputs": [
        {
          "output_type": "stream",
          "name": "stdout",
          "text": [
            "Average facts character length: 1179\n",
            "Average facts word length: 189\n"
          ]
        }
      ]
    },
    {
      "cell_type": "code",
      "source": [
        "df.head(3)"
      ],
      "metadata": {
        "colab": {
          "base_uri": "https://localhost:8080/",
          "height": 239
        },
        "id": "eG7aEZGmBceR",
        "outputId": "6e17f91c-7ea2-49c9-d47b-7c157f4961c3"
      },
      "execution_count": null,
      "outputs": [
        {
          "output_type": "execute_result",
          "data": {
            "text/html": [
              "\n",
              "  <div id=\"df-173415cf-4dc0-4698-ab57-2f939c2c5c82\">\n",
              "    <div class=\"colab-df-container\">\n",
              "      <div>\n",
              "<style scoped>\n",
              "    .dataframe tbody tr th:only-of-type {\n",
              "        vertical-align: middle;\n",
              "    }\n",
              "\n",
              "    .dataframe tbody tr th {\n",
              "        vertical-align: top;\n",
              "    }\n",
              "\n",
              "    .dataframe thead th {\n",
              "        text-align: right;\n",
              "    }\n",
              "</style>\n",
              "<table border=\"1\" class=\"dataframe\">\n",
              "  <thead>\n",
              "    <tr style=\"text-align: right;\">\n",
              "      <th></th>\n",
              "      <th>index</th>\n",
              "      <th>ID</th>\n",
              "      <th>name</th>\n",
              "      <th>href</th>\n",
              "      <th>first_party</th>\n",
              "      <th>second_party</th>\n",
              "      <th>winning_party</th>\n",
              "      <th>winner_index</th>\n",
              "      <th>facts</th>\n",
              "    </tr>\n",
              "  </thead>\n",
              "  <tbody>\n",
              "    <tr>\n",
              "      <th>0</th>\n",
              "      <td>0</td>\n",
              "      <td>50606</td>\n",
              "      <td>Roe v. Wade</td>\n",
              "      <td>https://api.oyez.org/cases/1971/70-18</td>\n",
              "      <td>Jane Roe</td>\n",
              "      <td>Henry Wade</td>\n",
              "      <td>Jane Roe</td>\n",
              "      <td>0</td>\n",
              "      <td>In 1970, Jane Roe (a fictional name used in co...</td>\n",
              "    </tr>\n",
              "    <tr>\n",
              "      <th>1</th>\n",
              "      <td>1</td>\n",
              "      <td>50606</td>\n",
              "      <td>Roe v. Wade</td>\n",
              "      <td>https://api.oyez.org/cases/1971/70-18</td>\n",
              "      <td>Henry Wade</td>\n",
              "      <td>Jane Roe</td>\n",
              "      <td>Jane Roe</td>\n",
              "      <td>1</td>\n",
              "      <td>In 1970, Jane Roe (a fictional name used in co...</td>\n",
              "    </tr>\n",
              "    <tr>\n",
              "      <th>2</th>\n",
              "      <td>2</td>\n",
              "      <td>50613</td>\n",
              "      <td>Stanley v. Illinois</td>\n",
              "      <td>https://api.oyez.org/cases/1971/70-5014</td>\n",
              "      <td>Peter Stanley, Sr.</td>\n",
              "      <td>Illinois</td>\n",
              "      <td>Stanley</td>\n",
              "      <td>0</td>\n",
              "      <td>Joan Stanley had three children with Peter Sta...</td>\n",
              "    </tr>\n",
              "  </tbody>\n",
              "</table>\n",
              "</div>\n",
              "      <button class=\"colab-df-convert\" onclick=\"convertToInteractive('df-173415cf-4dc0-4698-ab57-2f939c2c5c82')\"\n",
              "              title=\"Convert this dataframe to an interactive table.\"\n",
              "              style=\"display:none;\">\n",
              "        \n",
              "  <svg xmlns=\"http://www.w3.org/2000/svg\" height=\"24px\"viewBox=\"0 0 24 24\"\n",
              "       width=\"24px\">\n",
              "    <path d=\"M0 0h24v24H0V0z\" fill=\"none\"/>\n",
              "    <path d=\"M18.56 5.44l.94 2.06.94-2.06 2.06-.94-2.06-.94-.94-2.06-.94 2.06-2.06.94zm-11 1L8.5 8.5l.94-2.06 2.06-.94-2.06-.94L8.5 2.5l-.94 2.06-2.06.94zm10 10l.94 2.06.94-2.06 2.06-.94-2.06-.94-.94-2.06-.94 2.06-2.06.94z\"/><path d=\"M17.41 7.96l-1.37-1.37c-.4-.4-.92-.59-1.43-.59-.52 0-1.04.2-1.43.59L10.3 9.45l-7.72 7.72c-.78.78-.78 2.05 0 2.83L4 21.41c.39.39.9.59 1.41.59.51 0 1.02-.2 1.41-.59l7.78-7.78 2.81-2.81c.8-.78.8-2.07 0-2.86zM5.41 20L4 18.59l7.72-7.72 1.47 1.35L5.41 20z\"/>\n",
              "  </svg>\n",
              "      </button>\n",
              "      \n",
              "  <style>\n",
              "    .colab-df-container {\n",
              "      display:flex;\n",
              "      flex-wrap:wrap;\n",
              "      gap: 12px;\n",
              "    }\n",
              "\n",
              "    .colab-df-convert {\n",
              "      background-color: #E8F0FE;\n",
              "      border: none;\n",
              "      border-radius: 50%;\n",
              "      cursor: pointer;\n",
              "      display: none;\n",
              "      fill: #1967D2;\n",
              "      height: 32px;\n",
              "      padding: 0 0 0 0;\n",
              "      width: 32px;\n",
              "    }\n",
              "\n",
              "    .colab-df-convert:hover {\n",
              "      background-color: #E2EBFA;\n",
              "      box-shadow: 0px 1px 2px rgba(60, 64, 67, 0.3), 0px 1px 3px 1px rgba(60, 64, 67, 0.15);\n",
              "      fill: #174EA6;\n",
              "    }\n",
              "\n",
              "    [theme=dark] .colab-df-convert {\n",
              "      background-color: #3B4455;\n",
              "      fill: #D2E3FC;\n",
              "    }\n",
              "\n",
              "    [theme=dark] .colab-df-convert:hover {\n",
              "      background-color: #434B5C;\n",
              "      box-shadow: 0px 1px 3px 1px rgba(0, 0, 0, 0.15);\n",
              "      filter: drop-shadow(0px 1px 2px rgba(0, 0, 0, 0.3));\n",
              "      fill: #FFFFFF;\n",
              "    }\n",
              "  </style>\n",
              "\n",
              "      <script>\n",
              "        const buttonEl =\n",
              "          document.querySelector('#df-173415cf-4dc0-4698-ab57-2f939c2c5c82 button.colab-df-convert');\n",
              "        buttonEl.style.display =\n",
              "          google.colab.kernel.accessAllowed ? 'block' : 'none';\n",
              "\n",
              "        async function convertToInteractive(key) {\n",
              "          const element = document.querySelector('#df-173415cf-4dc0-4698-ab57-2f939c2c5c82');\n",
              "          const dataTable =\n",
              "            await google.colab.kernel.invokeFunction('convertToInteractive',\n",
              "                                                     [key], {});\n",
              "          if (!dataTable) return;\n",
              "\n",
              "          const docLinkHtml = 'Like what you see? Visit the ' +\n",
              "            '<a target=\"_blank\" href=https://colab.research.google.com/notebooks/data_table.ipynb>data table notebook</a>'\n",
              "            + ' to learn more about interactive tables.';\n",
              "          element.innerHTML = '';\n",
              "          dataTable['output_type'] = 'display_data';\n",
              "          await google.colab.output.renderOutput(dataTable, element);\n",
              "          const docLink = document.createElement('div');\n",
              "          docLink.innerHTML = docLinkHtml;\n",
              "          element.appendChild(docLink);\n",
              "        }\n",
              "      </script>\n",
              "    </div>\n",
              "  </div>\n",
              "  "
            ],
            "text/plain": [
              "   index  ...                                              facts\n",
              "0      0  ...  In 1970, Jane Roe (a fictional name used in co...\n",
              "1      1  ...  In 1970, Jane Roe (a fictional name used in co...\n",
              "2      2  ...  Joan Stanley had three children with Peter Sta...\n",
              "\n",
              "[3 rows x 9 columns]"
            ]
          },
          "metadata": {},
          "execution_count": 5
        }
      ]
    },
    {
      "cell_type": "markdown",
      "source": [
        "# Data Preprocessing - NLP"
      ],
      "metadata": {
        "id": "EhALZAO_B6MM"
      }
    },
    {
      "cell_type": "code",
      "source": [
        "# # Perform an 80-20 split for training and testing data\n",
        "X_train_party1_text, X_test_party1_text, \\\n",
        "X_train_party2_text, X_test_party2_text, \\\n",
        "X_train_facts_text, X_test_facts_text, \\\n",
        "y_train, y_test = train_test_split(\n",
        "    df['first_party'],\n",
        "    df['second_party'],\n",
        "    df['facts'],\n",
        "    df['winner_index'],\n",
        "    test_size=0.2,\n",
        "    stratify=df['winner_index'],\n",
        "    random_state=865\n",
        ")"
      ],
      "metadata": {
        "id": "7jWfso9rD2wo"
      },
      "execution_count": null,
      "outputs": []
    },
    {
      "cell_type": "code",
      "source": [
        "# TF-IDF Feature Extraction\n",
        "vectorizer = TfidfVectorizer()\n",
        "X_train_facts = vectorizer.fit_transform(X_train_facts_text)\n",
        "X_test_facts = vectorizer.transform(X_test_facts_text)\n",
        "X_train_party1 = vectorizer.transform(X_train_party1_text)\n",
        "X_test_party1 = vectorizer.transform(X_test_party1_text)\n",
        "X_train_party2 = vectorizer.transform(X_train_party2_text)\n",
        "X_test_party2 = vectorizer.transform(X_test_party2_text)\n",
        "\n",
        "X_train = np.concatenate([X_train_party1.todense(), X_train_party2.todense(), X_train_facts.todense()], axis=1)\n",
        "X_test = np.concatenate([X_test_party1.todense(), X_test_party2.todense(), X_test_facts.todense()], axis=1)\n",
        "\n",
        "del X_train_facts, X_train_party1, X_train_party2\n",
        "del X_test_facts, X_test_party1, X_test_party2"
      ],
      "metadata": {
        "id": "2u6VLVkzBhm6"
      },
      "execution_count": null,
      "outputs": []
    },
    {
      "cell_type": "code",
      "source": [
        "print(X_train.shape, y_train.shape, X_test.shape, y_test.shape)"
      ],
      "metadata": {
        "colab": {
          "base_uri": "https://localhost:8080/"
        },
        "id": "NUyKo1y_FJpo",
        "outputId": "5cf6d782-4ea8-483e-a2c8-de18abbf0dd3"
      },
      "execution_count": null,
      "outputs": [
        {
          "output_type": "stream",
          "name": "stdout",
          "text": [
            "(5542, 51042) (5542,) (1386, 51042) (1386,)\n"
          ]
        }
      ]
    },
    {
      "cell_type": "markdown",
      "source": [
        "# Baseline Model"
      ],
      "metadata": {
        "id": "3XuFqledXvjd"
      }
    },
    {
      "cell_type": "code",
      "source": [
        "# import keras\n",
        "import tensorflow as tf\n",
        "from tensorflow import keras\n",
        "from tensorflow.keras import layers"
      ],
      "metadata": {
        "id": "mLyGQf6sEZDH"
      },
      "execution_count": null,
      "outputs": []
    },
    {
      "cell_type": "code",
      "source": [
        "base_model = keras.Sequential([\n",
        "      layers.Dense(200, activation=\"relu\", kernel_regularizer=\"l2\"),\n",
        "      layers.Dense(200, activation=\"tanh\"),\n",
        "      layers.Dense(1, activation=\"sigmoid\"),     \n",
        "    ])\n",
        "base_model.compile(optimizer=\"rmsprop\", loss=\"binary_crossentropy\", metrics=[\"accuracy\"])"
      ],
      "metadata": {
        "id": "t-3KfB89X587"
      },
      "execution_count": null,
      "outputs": []
    },
    {
      "cell_type": "code",
      "source": [
        "base_history = base_model.fit(X_train,\n",
        "                    y_train,\n",
        "                    epochs=20,\n",
        "                    batch_size=512,\n",
        "                    validation_data=(X_test, y_test))"
      ],
      "metadata": {
        "colab": {
          "base_uri": "https://localhost:8080/"
        },
        "id": "k3Y0DaNxX8ci",
        "outputId": "5a6994be-5a43-4b0d-f942-d2c7f5782879"
      },
      "execution_count": null,
      "outputs": [
        {
          "output_type": "stream",
          "name": "stdout",
          "text": [
            "Epoch 1/20\n",
            "11/11 [==============================] - 9s 705ms/step - loss: 1.3424 - accuracy: 0.5438 - val_loss: 0.7196 - val_accuracy: 0.5657\n",
            "Epoch 2/20\n",
            "11/11 [==============================] - 7s 638ms/step - loss: 0.7116 - accuracy: 0.6193 - val_loss: 0.7399 - val_accuracy: 0.5815\n",
            "Epoch 3/20\n",
            "11/11 [==============================] - 7s 657ms/step - loss: 0.6948 - accuracy: 0.6723 - val_loss: 0.7412 - val_accuracy: 0.5851\n",
            "Epoch 4/20\n",
            "11/11 [==============================] - 7s 617ms/step - loss: 0.6700 - accuracy: 0.7099 - val_loss: 0.7695 - val_accuracy: 0.5815\n",
            "Epoch 5/20\n",
            "11/11 [==============================] - 7s 630ms/step - loss: 0.6441 - accuracy: 0.7398 - val_loss: 0.7770 - val_accuracy: 0.6053\n",
            "Epoch 6/20\n",
            "11/11 [==============================] - 7s 668ms/step - loss: 0.6200 - accuracy: 0.7663 - val_loss: 0.7919 - val_accuracy: 0.6068\n",
            "Epoch 7/20\n",
            "11/11 [==============================] - 7s 614ms/step - loss: 0.5975 - accuracy: 0.7945 - val_loss: 0.8272 - val_accuracy: 0.6205\n",
            "Epoch 8/20\n",
            "11/11 [==============================] - 8s 709ms/step - loss: 0.5711 - accuracy: 0.8149 - val_loss: 0.8223 - val_accuracy: 0.6140\n",
            "Epoch 9/20\n",
            "11/11 [==============================] - 7s 616ms/step - loss: 0.5538 - accuracy: 0.8371 - val_loss: 0.8432 - val_accuracy: 0.6104\n",
            "Epoch 10/20\n",
            "11/11 [==============================] - 8s 695ms/step - loss: 0.5093 - accuracy: 0.8663 - val_loss: 0.8678 - val_accuracy: 0.6248\n",
            "Epoch 11/20\n",
            "11/11 [==============================] - 9s 836ms/step - loss: 0.4976 - accuracy: 0.8717 - val_loss: 0.8750 - val_accuracy: 0.6299\n",
            "Epoch 12/20\n",
            "11/11 [==============================] - 7s 616ms/step - loss: 0.4503 - accuracy: 0.9184 - val_loss: 1.0077 - val_accuracy: 0.6270\n",
            "Epoch 13/20\n",
            "11/11 [==============================] - 6s 590ms/step - loss: 0.4627 - accuracy: 0.8948 - val_loss: 0.9597 - val_accuracy: 0.6494\n",
            "Epoch 14/20\n",
            "11/11 [==============================] - 7s 645ms/step - loss: 0.4489 - accuracy: 0.9011 - val_loss: 0.8957 - val_accuracy: 0.6421\n",
            "Epoch 15/20\n",
            "11/11 [==============================] - 8s 696ms/step - loss: 0.4337 - accuracy: 0.9112 - val_loss: 0.9040 - val_accuracy: 0.6465\n",
            "Epoch 16/20\n",
            "11/11 [==============================] - 7s 632ms/step - loss: 0.3644 - accuracy: 0.9603 - val_loss: 1.1661 - val_accuracy: 0.6465\n",
            "Epoch 17/20\n",
            "11/11 [==============================] - 7s 614ms/step - loss: 0.4225 - accuracy: 0.9118 - val_loss: 1.0701 - val_accuracy: 0.6429\n",
            "Epoch 18/20\n",
            "11/11 [==============================] - 7s 681ms/step - loss: 0.3814 - accuracy: 0.9341 - val_loss: 1.0547 - val_accuracy: 0.6400\n",
            "Epoch 19/20\n",
            "11/11 [==============================] - 7s 671ms/step - loss: 0.3385 - accuracy: 0.9607 - val_loss: 1.1224 - val_accuracy: 0.6400\n",
            "Epoch 20/20\n",
            "11/11 [==============================] - 7s 638ms/step - loss: 0.3336 - accuracy: 0.9589 - val_loss: 1.2013 - val_accuracy: 0.6623\n"
          ]
        }
      ]
    },
    {
      "cell_type": "code",
      "source": [
        "loss_metrics = base_model.evaluate(X_test,y_test,verbose=1)"
      ],
      "metadata": {
        "colab": {
          "base_uri": "https://localhost:8080/"
        },
        "id": "ek60Xg12gHx4",
        "outputId": "9aea88ad-8562-44da-f8b7-68068320fefa"
      },
      "execution_count": null,
      "outputs": [
        {
          "output_type": "stream",
          "name": "stdout",
          "text": [
            "44/44 [==============================] - 2s 34ms/step - loss: 1.2013 - accuracy: 0.6623\n"
          ]
        }
      ]
    },
    {
      "cell_type": "code",
      "source": [
        "train_loss_base_history = base_history.history['loss']\n",
        "val_loss_base_history = base_history.history['val_loss']\n",
        "\n",
        "train_acc_base_history = base_history.history['accuracy']\n",
        "val_acc_base_history = base_history.history['val_accuracy']"
      ],
      "metadata": {
        "id": "2WdPEO2DgNPX"
      },
      "execution_count": null,
      "outputs": []
    },
    {
      "cell_type": "code",
      "source": [
        "# Plot validation performance. \n",
        "plt.plot(train_acc_base_history,c='r')\n",
        "plt.plot(val_acc_base_history,c='b')\n",
        "plt.xlabel(\"Epochs\")\n",
        "plt.ylabel(\"Accuracy\")\n",
        "plt.legend(['Training Accuracy','Validation Accuracy'])\n",
        "plt.show()"
      ],
      "metadata": {
        "colab": {
          "base_uri": "https://localhost:8080/",
          "height": 279
        },
        "id": "2quIDmh_ggWB",
        "outputId": "678193b4-134c-4c51-bce6-5e46c107d5d0"
      },
      "execution_count": null,
      "outputs": [
        {
          "output_type": "display_data",
          "data": {
            "image/png": "[encoded data removed]",
            "text/plain": [
              "<Figure size 432x288 with 1 Axes>"
            ]
          },
          "metadata": {
            "needs_background": "light"
          }
        }
      ]
    },
    {
      "cell_type": "code",
      "source": [
        "plt.plot(train_loss_base_history,c=\"r\")\n",
        "plt.plot(val_loss_base_history,c='b')\n",
        "plt.xlabel(\"Epochs\")\n",
        "plt.ylabel(\"Loss\")\n",
        "plt.legend(['Training Loss','Validation Loss'])\n",
        "plt.show()"
      ],
      "metadata": {
        "colab": {
          "base_uri": "https://localhost:8080/",
          "height": 279
        },
        "id": "MTk_yNeUggKm",
        "outputId": "120a9e08-a08c-4670-9b1b-bf4561417451"
      },
      "execution_count": null,
      "outputs": [
        {
          "output_type": "display_data",
          "data": {
            "image/png": "[encoded data removed]",
            "text/plain": [
              "<Figure size 432x288 with 1 Axes>"
            ]
          },
          "metadata": {
            "needs_background": "light"
          }
        }
      ]
    },
    {
      "cell_type": "markdown",
      "source": [
        "# Simple Neural Network 1"
      ],
      "metadata": {
        "id": "UQdhmoZFEW7e"
      }
    },
    {
      "cell_type": "markdown",
      "source": [
        "Changed optimizer from rsmprop to adam"
      ],
      "metadata": {
        "id": "LHzF1YXI2_vt"
      }
    },
    {
      "cell_type": "code",
      "source": [
        "model1 = keras.Sequential([\n",
        "      layers.BatchNormalization(),\n",
        "      layers.Dense(200, activation=\"relu\", kernel_regularizer=\"l2\"),\n",
        "      layers.Dense(200, activation=\"tanh\"),                                \n",
        "      layers.Dense(1, activation=\"sigmoid\"),     \n",
        "    ])\n",
        "model1.compile(optimizer=\"adam\", loss=\"binary_crossentropy\", metrics=[\"accuracy\"])"
      ],
      "metadata": {
        "id": "Y1810nBmEmYS"
      },
      "execution_count": null,
      "outputs": []
    },
    {
      "cell_type": "code",
      "source": [
        "history1 = model1.fit(X_train,\n",
        "                    y_train,\n",
        "                    epochs=20,\n",
        "                    batch_size=512,\n",
        "                    validation_data=(X_test, y_test))"
      ],
      "metadata": {
        "colab": {
          "base_uri": "https://localhost:8080/"
        },
        "id": "zcM6x-QrFCsR",
        "outputId": "05fb239d-831f-43b5-cd22-41625ac4070b"
      },
      "execution_count": null,
      "outputs": [
        {
          "output_type": "stream",
          "name": "stdout",
          "text": [
            "Epoch 1/20\n",
            "11/11 [==============================] - 13s 1s/step - loss: 2.2072 - accuracy: 0.5063 - val_loss: 1.1118 - val_accuracy: 0.5000\n",
            "Epoch 2/20\n",
            "11/11 [==============================] - 11s 1s/step - loss: 0.8854 - accuracy: 0.8611 - val_loss: 1.0548 - val_accuracy: 0.5844\n",
            "Epoch 3/20\n",
            "11/11 [==============================] - 12s 1s/step - loss: 0.5232 - accuracy: 0.9181 - val_loss: 0.9751 - val_accuracy: 0.5000\n",
            "Epoch 4/20\n",
            "11/11 [==============================] - 12s 1s/step - loss: 0.3629 - accuracy: 0.9661 - val_loss: 0.8923 - val_accuracy: 0.6111\n",
            "Epoch 5/20\n",
            "11/11 [==============================] - 11s 1s/step - loss: 0.3023 - accuracy: 0.9720 - val_loss: 0.8600 - val_accuracy: 0.6097\n",
            "Epoch 6/20\n",
            "11/11 [==============================] - 12s 1s/step - loss: 0.3060 - accuracy: 0.9637 - val_loss: 0.8800 - val_accuracy: 0.6039\n",
            "Epoch 7/20\n",
            "11/11 [==============================] - 12s 1s/step - loss: 0.3372 - accuracy: 0.9681 - val_loss: 0.9217 - val_accuracy: 0.5260\n",
            "Epoch 8/20\n",
            "11/11 [==============================] - 12s 1s/step - loss: 0.3382 - accuracy: 0.9715 - val_loss: 0.9149 - val_accuracy: 0.6328\n",
            "Epoch 9/20\n",
            "11/11 [==============================] - 12s 1s/step - loss: 0.3260 - accuracy: 0.9769 - val_loss: 0.9082 - val_accuracy: 0.6140\n",
            "Epoch 10/20\n",
            "11/11 [==============================] - 12s 1s/step - loss: 0.2996 - accuracy: 0.9839 - val_loss: 0.8840 - val_accuracy: 0.6270\n",
            "Epoch 11/20\n",
            "11/11 [==============================] - 12s 1s/step - loss: 0.2665 - accuracy: 0.9888 - val_loss: 0.8677 - val_accuracy: 0.5736\n",
            "Epoch 12/20\n",
            "11/11 [==============================] - 11s 1s/step - loss: 0.2525 - accuracy: 0.9825 - val_loss: 0.8549 - val_accuracy: 0.5548\n",
            "Epoch 13/20\n",
            "11/11 [==============================] - 12s 1s/step - loss: 0.2493 - accuracy: 0.9845 - val_loss: 0.8487 - val_accuracy: 0.6089\n",
            "Epoch 14/20\n",
            "11/11 [==============================] - 12s 1s/step - loss: 0.2441 - accuracy: 0.9868 - val_loss: 0.8789 - val_accuracy: 0.5144\n",
            "Epoch 15/20\n",
            "11/11 [==============================] - 11s 989ms/step - loss: 0.2364 - accuracy: 0.9868 - val_loss: 0.8476 - val_accuracy: 0.5613\n",
            "Epoch 16/20\n",
            "11/11 [==============================] - 11s 999ms/step - loss: 0.2214 - accuracy: 0.9886 - val_loss: 0.8074 - val_accuracy: 0.6551\n",
            "Epoch 17/20\n",
            "11/11 [==============================] - 12s 1s/step - loss: 0.2161 - accuracy: 0.9890 - val_loss: 0.8007 - val_accuracy: 0.6566\n",
            "Epoch 18/20\n",
            "11/11 [==============================] - 12s 1s/step - loss: 0.2300 - accuracy: 0.9872 - val_loss: 0.8511 - val_accuracy: 0.5281\n",
            "Epoch 19/20\n",
            "11/11 [==============================] - 12s 1s/step - loss: 0.2323 - accuracy: 0.9843 - val_loss: 0.8073 - val_accuracy: 0.6450\n",
            "Epoch 20/20\n",
            "11/11 [==============================] - 12s 1s/step - loss: 0.2563 - accuracy: 0.9848 - val_loss: 0.8229 - val_accuracy: 0.6530\n"
          ]
        }
      ]
    },
    {
      "cell_type": "code",
      "source": [
        "model1.summary()"
      ],
      "metadata": {
        "colab": {
          "base_uri": "https://localhost:8080/"
        },
        "id": "sJ-aKjtsHYc1",
        "outputId": "5ccc71f6-6ff9-4bda-fa33-00c431be1ba4"
      },
      "execution_count": null,
      "outputs": [
        {
          "output_type": "stream",
          "name": "stdout",
          "text": [
            "Model: \"sequential_1\"\n",
            "_________________________________________________________________\n",
            " Layer (type)                Output Shape              Param #   \n",
            "=================================================================\n",
            " batch_normalization (BatchN  (None, 51042)            204168    \n",
            " ormalization)                                                   \n",
            "                                                                 \n",
            " dense_3 (Dense)             (None, 200)               10208600  \n",
            "                                                                 \n",
            " dense_4 (Dense)             (None, 200)               40200     \n",
            "                                                                 \n",
            " dense_5 (Dense)             (None, 1)                 201       \n",
            "                                                                 \n",
            "=================================================================\n",
            "Total params: 10,453,169\n",
            "Trainable params: 10,351,085\n",
            "Non-trainable params: 102,084\n",
            "_________________________________________________________________\n"
          ]
        }
      ]
    },
    {
      "cell_type": "code",
      "source": [
        "loss_metrics = model1.evaluate(X_test,y_test,verbose=1)"
      ],
      "metadata": {
        "colab": {
          "base_uri": "https://localhost:8080/"
        },
        "id": "mJrKxyxUJVH5",
        "outputId": "d9bab557-5590-4bc5-d62c-22635fd7850e"
      },
      "execution_count": null,
      "outputs": [
        {
          "output_type": "stream",
          "name": "stdout",
          "text": [
            "44/44 [==============================] - 2s 52ms/step - loss: 0.8229 - accuracy: 0.6530\n"
          ]
        }
      ]
    },
    {
      "cell_type": "code",
      "source": [
        "train_loss_history1 = history1.history['loss']\n",
        "val_loss_history1 = history1.history['val_loss']\n",
        "\n",
        "train_acc_history1 = history1.history['accuracy']\n",
        "val_acc_history1 = history1.history['val_accuracy']"
      ],
      "metadata": {
        "id": "2HIsv-ST9Ghl"
      },
      "execution_count": null,
      "outputs": []
    },
    {
      "cell_type": "code",
      "source": [
        "# Plot validation performance. \n",
        "plt.plot(train_acc_history1,c='r')\n",
        "plt.plot(val_acc_history1,c='b')\n",
        "plt.xlabel(\"Epochs\")\n",
        "plt.ylabel(\"Accuracy\")\n",
        "plt.legend(['Training Accuracy','Validation Accuracy'])\n",
        "plt.show()"
      ],
      "metadata": {
        "colab": {
          "base_uri": "https://localhost:8080/",
          "height": 279
        },
        "id": "-yo5MQN49Rfa",
        "outputId": "dd0cbfd5-e55e-4671-be43-96cb646ad8a7"
      },
      "execution_count": null,
      "outputs": [
        {
          "output_type": "display_data",
          "data": {
            "image/png": "[encoded data removed]",
            "text/plain": [
              "<Figure size 432x288 with 1 Axes>"
            ]
          },
          "metadata": {
            "needs_background": "light"
          }
        }
      ]
    },
    {
      "cell_type": "code",
      "source": [
        "plt.plot(train_loss_history1,c=\"r\")\n",
        "plt.plot(val_loss_history1,c='b')\n",
        "plt.xlabel(\"Epochs\")\n",
        "plt.ylabel(\"Loss\")\n",
        "plt.legend(['Training Loss','Validation Loss'])\n",
        "plt.show()"
      ],
      "metadata": {
        "colab": {
          "base_uri": "https://localhost:8080/",
          "height": 279
        },
        "id": "eJsBSZMs9VFW",
        "outputId": "3bdf0503-acc4-4626-f92e-e5e97eb86e8e"
      },
      "execution_count": null,
      "outputs": [
        {
          "output_type": "display_data",
          "data": {
            "image/png": "[encoded data removed]",
            "text/plain": [
              "<Figure size 432x288 with 1 Axes>"
            ]
          },
          "metadata": {
            "needs_background": "light"
          }
        }
      ]
    },
    {
      "cell_type": "markdown",
      "source": [
        "# Simple model 2"
      ],
      "metadata": {
        "id": "bOPdXKjB4el8"
      }
    },
    {
      "cell_type": "markdown",
      "source": [
        "To delay overfit, added another kernel regularizer and increased epochs"
      ],
      "metadata": {
        "id": "h-0zOgSt6M86"
      }
    },
    {
      "cell_type": "code",
      "source": [
        "model2 = keras.Sequential([\n",
        "      layers.BatchNormalization(),\n",
        "      layers.Dense(200, activation=\"relu\", kernel_regularizer=\"l2\"),\n",
        "      layers.Dense(200, activation=\"tanh\", kernel_regularizer=\"l2\"),                                \n",
        "      layers.Dense(1, activation=\"sigmoid\"),     \n",
        "    ])\n",
        "model2.compile(optimizer=\"adam\", loss=\"binary_crossentropy\", metrics=[\"accuracy\"])"
      ],
      "metadata": {
        "id": "XnovTh9R3MvH"
      },
      "execution_count": null,
      "outputs": []
    },
    {
      "cell_type": "code",
      "source": [
        "history2 = model2.fit(X_train,\n",
        "                    y_train,\n",
        "                    epochs=50,\n",
        "                    batch_size=512,\n",
        "                    validation_data=(X_test, y_test))"
      ],
      "metadata": {
        "colab": {
          "base_uri": "https://localhost:8080/"
        },
        "id": "4lJ7dT4_3wzd",
        "outputId": "3b81c6c9-cf88-4b56-ddde-9b30e5811675"
      },
      "execution_count": null,
      "outputs": [
        {
          "output_type": "stream",
          "name": "stdout",
          "text": [
            "Epoch 1/50\n",
            "11/11 [==============================] - 13s 1s/step - loss: 3.9940 - accuracy: 0.5045 - val_loss: 2.6520 - val_accuracy: 0.5000\n",
            "Epoch 2/50\n",
            "11/11 [==============================] - 12s 1s/step - loss: 2.2472 - accuracy: 0.8565 - val_loss: 2.2427 - val_accuracy: 0.5859\n",
            "Epoch 3/50\n",
            "11/11 [==============================] - 13s 1s/step - loss: 1.6046 - accuracy: 0.9116 - val_loss: 1.8477 - val_accuracy: 0.5988\n",
            "Epoch 4/50\n",
            "11/11 [==============================] - 12s 1s/step - loss: 1.2072 - accuracy: 0.9592 - val_loss: 1.5999 - val_accuracy: 0.5476\n",
            "Epoch 5/50\n",
            "11/11 [==============================] - 13s 1s/step - loss: 0.9457 - accuracy: 0.9675 - val_loss: 1.3918 - val_accuracy: 0.6032\n",
            "Epoch 6/50\n",
            "11/11 [==============================] - 13s 1s/step - loss: 0.7811 - accuracy: 0.9677 - val_loss: 1.2776 - val_accuracy: 0.5245\n",
            "Epoch 7/50\n",
            "11/11 [==============================] - 12s 1s/step - loss: 0.6662 - accuracy: 0.9648 - val_loss: 1.1712 - val_accuracy: 0.5577\n",
            "Epoch 8/50\n",
            "11/11 [==============================] - 12s 1s/step - loss: 0.5669 - accuracy: 0.9709 - val_loss: 1.0869 - val_accuracy: 0.5996\n",
            "Epoch 9/50\n",
            "11/11 [==============================] - 13s 1s/step - loss: 0.4891 - accuracy: 0.9776 - val_loss: 1.0251 - val_accuracy: 0.5873\n",
            "Epoch 10/50\n",
            "11/11 [==============================] - 12s 1s/step - loss: 0.4095 - accuracy: 0.9843 - val_loss: 0.9668 - val_accuracy: 0.6025\n",
            "Epoch 11/50\n",
            "11/11 [==============================] - 18s 2s/step - loss: 0.3508 - accuracy: 0.9861 - val_loss: 0.9240 - val_accuracy: 0.6053\n",
            "Epoch 12/50\n",
            "11/11 [==============================] - 12s 1s/step - loss: 0.3134 - accuracy: 0.9848 - val_loss: 0.8891 - val_accuracy: 0.6010\n",
            "Epoch 13/50\n",
            "11/11 [==============================] - 11s 995ms/step - loss: 0.2868 - accuracy: 0.9866 - val_loss: 0.8774 - val_accuracy: 0.5952\n",
            "Epoch 14/50\n",
            "11/11 [==============================] - 16s 2s/step - loss: 0.2627 - accuracy: 0.9899 - val_loss: 0.8571 - val_accuracy: 0.5931\n",
            "Epoch 15/50\n",
            "11/11 [==============================] - 11s 1s/step - loss: 0.2486 - accuracy: 0.9890 - val_loss: 0.8477 - val_accuracy: 0.6010\n",
            "Epoch 16/50\n",
            "11/11 [==============================] - 11s 989ms/step - loss: 0.2321 - accuracy: 0.9899 - val_loss: 0.8316 - val_accuracy: 0.5996\n",
            "Epoch 17/50\n",
            "11/11 [==============================] - 12s 1s/step - loss: 0.2283 - accuracy: 0.9886 - val_loss: 0.8261 - val_accuracy: 0.6053\n",
            "Epoch 18/50\n",
            "11/11 [==============================] - 11s 1s/step - loss: 0.2281 - accuracy: 0.9868 - val_loss: 0.9178 - val_accuracy: 0.5274\n",
            "Epoch 19/50\n",
            "11/11 [==============================] - 12s 1s/step - loss: 0.2292 - accuracy: 0.9859 - val_loss: 0.8308 - val_accuracy: 0.6154\n",
            "Epoch 20/50\n",
            "11/11 [==============================] - 11s 1s/step - loss: 0.2267 - accuracy: 0.9872 - val_loss: 0.8405 - val_accuracy: 0.6025\n",
            "Epoch 21/50\n",
            "11/11 [==============================] - 12s 1s/step - loss: 0.2199 - accuracy: 0.9890 - val_loss: 0.8493 - val_accuracy: 0.6025\n",
            "Epoch 22/50\n",
            "11/11 [==============================] - 13s 1s/step - loss: 0.2017 - accuracy: 0.9921 - val_loss: 0.8590 - val_accuracy: 0.5851\n",
            "Epoch 23/50\n",
            "11/11 [==============================] - 11s 1s/step - loss: 0.1862 - accuracy: 0.9942 - val_loss: 0.7970 - val_accuracy: 0.6111\n",
            "Epoch 24/50\n",
            "11/11 [==============================] - 12s 1s/step - loss: 0.1764 - accuracy: 0.9948 - val_loss: 0.7929 - val_accuracy: 0.6255\n",
            "Epoch 25/50\n",
            "11/11 [==============================] - 13s 1s/step - loss: 0.1691 - accuracy: 0.9942 - val_loss: 0.8190 - val_accuracy: 0.6291\n",
            "Epoch 26/50\n",
            "11/11 [==============================] - 13s 1s/step - loss: 0.1657 - accuracy: 0.9948 - val_loss: 0.7845 - val_accuracy: 0.6335\n",
            "Epoch 27/50\n",
            "11/11 [==============================] - 12s 1s/step - loss: 0.1655 - accuracy: 0.9926 - val_loss: 0.7723 - val_accuracy: 0.6306\n",
            "Epoch 28/50\n",
            "11/11 [==============================] - 12s 1s/step - loss: 0.1624 - accuracy: 0.9940 - val_loss: 0.7758 - val_accuracy: 0.6190\n",
            "Epoch 29/50\n",
            "11/11 [==============================] - 13s 1s/step - loss: 0.1620 - accuracy: 0.9921 - val_loss: 0.7877 - val_accuracy: 0.6234\n",
            "Epoch 30/50\n",
            "11/11 [==============================] - 12s 1s/step - loss: 0.1632 - accuracy: 0.9935 - val_loss: 0.8359 - val_accuracy: 0.6255\n",
            "Epoch 31/50\n",
            "11/11 [==============================] - 12s 1s/step - loss: 0.1655 - accuracy: 0.9935 - val_loss: 0.8104 - val_accuracy: 0.6241\n",
            "Epoch 32/50\n",
            "11/11 [==============================] - 12s 1s/step - loss: 0.1696 - accuracy: 0.9903 - val_loss: 0.8276 - val_accuracy: 0.6342\n",
            "Epoch 33/50\n",
            "11/11 [==============================] - 12s 1s/step - loss: 0.1711 - accuracy: 0.9924 - val_loss: 0.8310 - val_accuracy: 0.6494\n",
            "Epoch 34/50\n",
            "11/11 [==============================] - 12s 1s/step - loss: 0.1571 - accuracy: 0.9940 - val_loss: 0.8173 - val_accuracy: 0.6263\n",
            "Epoch 35/50\n",
            "11/11 [==============================] - 12s 1s/step - loss: 0.1472 - accuracy: 0.9953 - val_loss: 0.8284 - val_accuracy: 0.6335\n",
            "Epoch 36/50\n",
            "11/11 [==============================] - 11s 998ms/step - loss: 0.1414 - accuracy: 0.9946 - val_loss: 0.8290 - val_accuracy: 0.6364\n",
            "Epoch 37/50\n",
            "11/11 [==============================] - 12s 1s/step - loss: 0.1405 - accuracy: 0.9931 - val_loss: 0.8051 - val_accuracy: 0.6270\n",
            "Epoch 38/50\n",
            "11/11 [==============================] - 12s 1s/step - loss: 0.1325 - accuracy: 0.9960 - val_loss: 0.8115 - val_accuracy: 0.6313\n",
            "Epoch 39/50\n",
            "11/11 [==============================] - 12s 1s/step - loss: 0.1320 - accuracy: 0.9958 - val_loss: 0.8160 - val_accuracy: 0.6291\n",
            "Epoch 40/50\n",
            "11/11 [==============================] - 12s 1s/step - loss: 0.1298 - accuracy: 0.9957 - val_loss: 0.8284 - val_accuracy: 0.6429\n",
            "Epoch 41/50\n",
            "11/11 [==============================] - 12s 1s/step - loss: 0.1219 - accuracy: 0.9978 - val_loss: 0.8528 - val_accuracy: 0.6356\n",
            "Epoch 42/50\n",
            "11/11 [==============================] - 12s 1s/step - loss: 0.1241 - accuracy: 0.9955 - val_loss: 0.8554 - val_accuracy: 0.6335\n",
            "Epoch 43/50\n",
            "11/11 [==============================] - 12s 1s/step - loss: 0.1222 - accuracy: 0.9969 - val_loss: 0.8564 - val_accuracy: 0.6371\n",
            "Epoch 44/50\n",
            "11/11 [==============================] - 11s 974ms/step - loss: 0.1244 - accuracy: 0.9953 - val_loss: 0.8705 - val_accuracy: 0.6306\n",
            "Epoch 45/50\n",
            "11/11 [==============================] - 12s 1s/step - loss: 0.1212 - accuracy: 0.9964 - val_loss: 0.8981 - val_accuracy: 0.6255\n",
            "Epoch 46/50\n",
            "11/11 [==============================] - 11s 998ms/step - loss: 0.1203 - accuracy: 0.9962 - val_loss: 0.9122 - val_accuracy: 0.6407\n",
            "Epoch 47/50\n",
            "11/11 [==============================] - 12s 1s/step - loss: 0.1191 - accuracy: 0.9969 - val_loss: 0.9289 - val_accuracy: 0.6306\n",
            "Epoch 48/50\n",
            "11/11 [==============================] - 11s 996ms/step - loss: 0.1140 - accuracy: 0.9973 - val_loss: 0.9616 - val_accuracy: 0.6291\n",
            "Epoch 49/50\n",
            "11/11 [==============================] - 16s 2s/step - loss: 0.1114 - accuracy: 0.9971 - val_loss: 0.9764 - val_accuracy: 0.6371\n",
            "Epoch 50/50\n",
            "11/11 [==============================] - 14s 1s/step - loss: 0.1124 - accuracy: 0.9966 - val_loss: 0.9723 - val_accuracy: 0.6371\n"
          ]
        }
      ]
    },
    {
      "cell_type": "code",
      "source": [
        "loss_metrics = model2.evaluate(X_test,y_test,verbose=1)"
      ],
      "metadata": {
        "colab": {
          "base_uri": "https://localhost:8080/"
        },
        "id": "oIQ8V1ndK419",
        "outputId": "ae6c6bdd-0f89-48da-bb39-91d83543bd6c"
      },
      "execution_count": null,
      "outputs": [
        {
          "output_type": "stream",
          "name": "stdout",
          "text": [
            "44/44 [==============================] - 2s 52ms/step - loss: 0.9723 - accuracy: 0.6371\n"
          ]
        }
      ]
    },
    {
      "cell_type": "code",
      "source": [
        "train_loss_history2 = history2.history['loss']\n",
        "val_loss_history2 = history2.history['val_loss']\n",
        "\n",
        "train_acc_history2 = history2.history['accuracy']\n",
        "val_acc_history2 = history2.history['val_accuracy']"
      ],
      "metadata": {
        "id": "4iq_L6i56eCm"
      },
      "execution_count": null,
      "outputs": []
    },
    {
      "cell_type": "code",
      "source": [
        "# Plot validation performance. \n",
        "plt.plot(train_acc_history2,c='r')\n",
        "plt.plot(val_acc_history2,c='b')\n",
        "plt.xlabel(\"Epochs\")\n",
        "plt.ylabel(\"Accuracy\")\n",
        "plt.legend(['Training Accuracy','Validation Accuracy'])\n",
        "plt.show()"
      ],
      "metadata": {
        "colab": {
          "base_uri": "https://localhost:8080/",
          "height": 279
        },
        "id": "8lpL8y6S307B",
        "outputId": "fb03105d-e537-41e9-b0c4-4c1d1be3981e"
      },
      "execution_count": null,
      "outputs": [
        {
          "output_type": "display_data",
          "data": {
            "image/png": "[encoded data removed]",
            "text/plain": [
              "<Figure size 432x288 with 1 Axes>"
            ]
          },
          "metadata": {
            "needs_background": "light"
          }
        }
      ]
    },
    {
      "cell_type": "code",
      "source": [
        "plt.plot(train_loss_history2,c=\"r\")\n",
        "plt.plot(val_loss_history2,c='b')\n",
        "plt.xlabel(\"Epochs\")\n",
        "plt.ylabel(\"Loss\")\n",
        "plt.legend(['Training Loss','Validation Loss'])\n",
        "plt.show()"
      ],
      "metadata": {
        "colab": {
          "base_uri": "https://localhost:8080/",
          "height": 279
        },
        "id": "8mhhbmmN77P7",
        "outputId": "f34cb88a-a96b-4947-9601-7d53b90e5d20"
      },
      "execution_count": null,
      "outputs": [
        {
          "output_type": "display_data",
          "data": {
            "image/png": "[encoded data removed]",
            "text/plain": [
              "<Figure size 432x288 with 1 Axes>"
            ]
          },
          "metadata": {
            "needs_background": "light"
          }
        }
      ]
    },
    {
      "cell_type": "markdown",
      "source": [
        "# Simple Model 3"
      ],
      "metadata": {
        "id": "tU6WsWKbHXIn"
      }
    },
    {
      "cell_type": "code",
      "source": [
        "model3 = keras.Sequential([\n",
        "      layers.Dropout(0.1),\n",
        "      layers.BatchNormalization(),\n",
        "      layers.Dense(200, activation=\"relu\", kernel_regularizer=\"l2\"),\n",
        "      layers.Dropout(0.2),\n",
        "      layers.BatchNormalization(),      \n",
        "      layers.Dense(200, activation=\"tanh\", kernel_regularizer=\"l2\"),                                \n",
        "      layers.Dense(1, activation=\"sigmoid\"),     \n",
        "    ])\n",
        "model3.compile(optimizer=\"adam\", loss=\"binary_crossentropy\", metrics=[\"accuracy\"])"
      ],
      "metadata": {
        "id": "7xVjb7wy89tW"
      },
      "execution_count": null,
      "outputs": []
    },
    {
      "cell_type": "code",
      "source": [
        "history3 = model3.fit(X_train,\n",
        "                    y_train,\n",
        "                    epochs=50,\n",
        "                    batch_size=512,\n",
        "                    validation_data=(X_test, y_test))"
      ],
      "metadata": {
        "colab": {
          "base_uri": "https://localhost:8080/"
        },
        "id": "hRgdNt81H62X",
        "outputId": "4a7f6b1a-9a81-4777-eb7f-bdd259c66843"
      },
      "execution_count": null,
      "outputs": [
        {
          "output_type": "stream",
          "name": "stdout",
          "text": [
            "Epoch 1/50\n",
            "11/11 [==============================] - 17s 1s/step - loss: 4.3222 - accuracy: 0.5051 - val_loss: 3.1946 - val_accuracy: 0.5000\n",
            "Epoch 2/50\n",
            "11/11 [==============================] - 14s 1s/step - loss: 2.9580 - accuracy: 0.7485 - val_loss: 2.9191 - val_accuracy: 0.5238\n",
            "Epoch 3/50\n",
            "11/11 [==============================] - 14s 1s/step - loss: 2.2799 - accuracy: 0.8984 - val_loss: 2.4847 - val_accuracy: 0.5505\n",
            "Epoch 4/50\n",
            "11/11 [==============================] - 13s 1s/step - loss: 1.7546 - accuracy: 0.9599 - val_loss: 2.1296 - val_accuracy: 0.5000\n",
            "Epoch 5/50\n",
            "11/11 [==============================] - 14s 1s/step - loss: 1.3945 - accuracy: 0.9691 - val_loss: 1.8429 - val_accuracy: 0.5058\n",
            "Epoch 6/50\n",
            "11/11 [==============================] - 14s 1s/step - loss: 1.1367 - accuracy: 0.9709 - val_loss: 1.6290 - val_accuracy: 0.5000\n",
            "Epoch 7/50\n",
            "11/11 [==============================] - 14s 1s/step - loss: 0.9594 - accuracy: 0.9697 - val_loss: 1.4782 - val_accuracy: 0.5014\n",
            "Epoch 8/50\n",
            "11/11 [==============================] - 15s 1s/step - loss: 0.8427 - accuracy: 0.9654 - val_loss: 1.3784 - val_accuracy: 0.5794\n",
            "Epoch 9/50\n",
            "11/11 [==============================] - 14s 1s/step - loss: 0.7649 - accuracy: 0.9636 - val_loss: 1.3108 - val_accuracy: 0.5685\n",
            "Epoch 10/50\n",
            "11/11 [==============================] - 13s 1s/step - loss: 0.7064 - accuracy: 0.9681 - val_loss: 1.2684 - val_accuracy: 0.5036\n",
            "Epoch 11/50\n",
            "11/11 [==============================] - 14s 1s/step - loss: 0.6522 - accuracy: 0.9682 - val_loss: 1.2259 - val_accuracy: 0.5620\n",
            "Epoch 12/50\n",
            "11/11 [==============================] - 14s 1s/step - loss: 0.6166 - accuracy: 0.9679 - val_loss: 1.1915 - val_accuracy: 0.5065\n",
            "Epoch 13/50\n",
            "11/11 [==============================] - 14s 1s/step - loss: 0.5784 - accuracy: 0.9706 - val_loss: 1.1602 - val_accuracy: 0.5866\n",
            "Epoch 14/50\n",
            "11/11 [==============================] - 14s 1s/step - loss: 0.5430 - accuracy: 0.9744 - val_loss: 1.1335 - val_accuracy: 0.5620\n",
            "Epoch 15/50\n",
            "11/11 [==============================] - 14s 1s/step - loss: 0.5124 - accuracy: 0.9774 - val_loss: 1.1072 - val_accuracy: 0.5772\n",
            "Epoch 16/50\n",
            "11/11 [==============================] - 14s 1s/step - loss: 0.4830 - accuracy: 0.9764 - val_loss: 1.0746 - val_accuracy: 0.5267\n",
            "Epoch 17/50\n",
            "11/11 [==============================] - 13s 1s/step - loss: 0.4720 - accuracy: 0.9724 - val_loss: 1.0749 - val_accuracy: 0.5007\n",
            "Epoch 18/50\n",
            "11/11 [==============================] - 15s 1s/step - loss: 0.4714 - accuracy: 0.9746 - val_loss: 1.0688 - val_accuracy: 0.5758\n",
            "Epoch 19/50\n",
            "11/11 [==============================] - 15s 1s/step - loss: 0.4717 - accuracy: 0.9742 - val_loss: 1.0682 - val_accuracy: 0.6248\n",
            "Epoch 20/50\n",
            "11/11 [==============================] - 15s 1s/step - loss: 0.4703 - accuracy: 0.9758 - val_loss: 1.0745 - val_accuracy: 0.5390\n",
            "Epoch 21/50\n",
            "11/11 [==============================] - 14s 1s/step - loss: 0.4736 - accuracy: 0.9764 - val_loss: 1.0637 - val_accuracy: 0.6118\n",
            "Epoch 22/50\n",
            "11/11 [==============================] - 14s 1s/step - loss: 0.4651 - accuracy: 0.9758 - val_loss: 1.0531 - val_accuracy: 0.5722\n",
            "Epoch 23/50\n",
            "11/11 [==============================] - 14s 1s/step - loss: 0.4412 - accuracy: 0.9811 - val_loss: 1.0476 - val_accuracy: 0.5642\n",
            "Epoch 24/50\n",
            "11/11 [==============================] - 13s 1s/step - loss: 0.4474 - accuracy: 0.9798 - val_loss: 1.0389 - val_accuracy: 0.6133\n",
            "Epoch 25/50\n",
            "11/11 [==============================] - 14s 1s/step - loss: 0.4297 - accuracy: 0.9821 - val_loss: 1.0174 - val_accuracy: 0.6364\n",
            "Epoch 26/50\n",
            "11/11 [==============================] - 14s 1s/step - loss: 0.4336 - accuracy: 0.9774 - val_loss: 1.0173 - val_accuracy: 0.5758\n",
            "Epoch 27/50\n",
            "11/11 [==============================] - 13s 1s/step - loss: 0.4505 - accuracy: 0.9756 - val_loss: 1.0215 - val_accuracy: 0.5988\n",
            "Epoch 28/50\n",
            "11/11 [==============================] - 14s 1s/step - loss: 0.4638 - accuracy: 0.9720 - val_loss: 1.0293 - val_accuracy: 0.6580\n",
            "Epoch 29/50\n",
            "11/11 [==============================] - 14s 1s/step - loss: 0.4809 - accuracy: 0.9758 - val_loss: 1.0514 - val_accuracy: 0.5750\n",
            "Epoch 30/50\n",
            "11/11 [==============================] - 14s 1s/step - loss: 0.4873 - accuracy: 0.9765 - val_loss: 1.0250 - val_accuracy: 0.6479\n",
            "Epoch 31/50\n",
            "11/11 [==============================] - 14s 1s/step - loss: 0.4789 - accuracy: 0.9782 - val_loss: 1.0178 - val_accuracy: 0.6522\n",
            "Epoch 32/50\n",
            "11/11 [==============================] - 14s 1s/step - loss: 0.4661 - accuracy: 0.9818 - val_loss: 1.0002 - val_accuracy: 0.6457\n",
            "Epoch 33/50\n",
            "11/11 [==============================] - 13s 1s/step - loss: 0.4387 - accuracy: 0.9848 - val_loss: 0.9638 - val_accuracy: 0.6703\n",
            "Epoch 34/50\n",
            "11/11 [==============================] - 14s 1s/step - loss: 0.4226 - accuracy: 0.9811 - val_loss: 0.9276 - val_accuracy: 0.6775\n",
            "Epoch 35/50\n",
            "11/11 [==============================] - 13s 1s/step - loss: 0.4130 - accuracy: 0.9769 - val_loss: 0.9220 - val_accuracy: 0.6753\n",
            "Epoch 36/50\n",
            "11/11 [==============================] - 14s 1s/step - loss: 0.4252 - accuracy: 0.9807 - val_loss: 0.9269 - val_accuracy: 0.6667\n",
            "Epoch 37/50\n",
            "11/11 [==============================] - 14s 1s/step - loss: 0.4539 - accuracy: 0.9755 - val_loss: 0.9938 - val_accuracy: 0.6436\n",
            "Epoch 38/50\n",
            "11/11 [==============================] - 14s 1s/step - loss: 0.4722 - accuracy: 0.9755 - val_loss: 0.9638 - val_accuracy: 0.6638\n",
            "Epoch 39/50\n",
            "11/11 [==============================] - 14s 1s/step - loss: 0.4688 - accuracy: 0.9798 - val_loss: 0.9696 - val_accuracy: 0.6861\n",
            "Epoch 40/50\n",
            "11/11 [==============================] - 14s 1s/step - loss: 0.4806 - accuracy: 0.9782 - val_loss: 0.9391 - val_accuracy: 0.6724\n",
            "Epoch 41/50\n",
            "11/11 [==============================] - 14s 1s/step - loss: 0.4659 - accuracy: 0.9809 - val_loss: 0.9256 - val_accuracy: 0.6638\n",
            "Epoch 42/50\n",
            "11/11 [==============================] - 15s 1s/step - loss: 0.4523 - accuracy: 0.9787 - val_loss: 0.9299 - val_accuracy: 0.6724\n",
            "Epoch 43/50\n",
            "11/11 [==============================] - 14s 1s/step - loss: 0.4646 - accuracy: 0.9773 - val_loss: 0.9369 - val_accuracy: 0.6724\n",
            "Epoch 44/50\n",
            "11/11 [==============================] - 14s 1s/step - loss: 0.4682 - accuracy: 0.9785 - val_loss: 0.9480 - val_accuracy: 0.6926\n",
            "Epoch 45/50\n",
            "11/11 [==============================] - 15s 1s/step - loss: 0.4576 - accuracy: 0.9802 - val_loss: 0.9356 - val_accuracy: 0.6681\n",
            "Epoch 46/50\n",
            "11/11 [==============================] - 13s 1s/step - loss: 0.4623 - accuracy: 0.9782 - val_loss: 0.9185 - val_accuracy: 0.6732\n",
            "Epoch 47/50\n",
            "11/11 [==============================] - 14s 1s/step - loss: 0.4440 - accuracy: 0.9814 - val_loss: 0.9389 - val_accuracy: 0.6710\n",
            "Epoch 48/50\n",
            "11/11 [==============================] - 14s 1s/step - loss: 0.4646 - accuracy: 0.9767 - val_loss: 0.9620 - val_accuracy: 0.6522\n",
            "Epoch 49/50\n",
            "11/11 [==============================] - 14s 1s/step - loss: 0.4574 - accuracy: 0.9805 - val_loss: 0.9589 - val_accuracy: 0.6587\n",
            "Epoch 50/50\n",
            "11/11 [==============================] - 15s 1s/step - loss: 0.4495 - accuracy: 0.9825 - val_loss: 0.9594 - val_accuracy: 0.6631\n"
          ]
        }
      ]
    },
    {
      "cell_type": "code",
      "source": [
        "loss_metrics = model3.evaluate(X_test,y_test,verbose=1)"
      ],
      "metadata": {
        "colab": {
          "base_uri": "https://localhost:8080/"
        },
        "id": "45utbOTgH_MC",
        "outputId": "29b63e97-672e-4b64-8e85-9ac06e804fe2"
      },
      "execution_count": null,
      "outputs": [
        {
          "output_type": "stream",
          "name": "stdout",
          "text": [
            "44/44 [==============================] - 2s 37ms/step - loss: 0.9594 - accuracy: 0.6631\n"
          ]
        }
      ]
    },
    {
      "cell_type": "code",
      "source": [
        "train_loss_history3 = history3.history['loss']\n",
        "val_loss_history3 = history3.history['val_loss']\n",
        "\n",
        "train_acc_history3 = history3.history['accuracy']\n",
        "val_acc_history3 = history3.history['val_accuracy']"
      ],
      "metadata": {
        "id": "S3jD5UibK1t2"
      },
      "execution_count": null,
      "outputs": []
    },
    {
      "cell_type": "code",
      "source": [
        "# Plot validation performance. \n",
        "plt.plot(train_acc_history3,c='r')\n",
        "plt.plot(val_acc_history3,c='b')\n",
        "plt.xlabel(\"Epochs\")\n",
        "plt.ylabel(\"Accuracy\")\n",
        "plt.legend(['Training Accuracy','Validation Accuracy'])\n",
        "plt.show()"
      ],
      "metadata": {
        "colab": {
          "base_uri": "https://localhost:8080/",
          "height": 280
        },
        "id": "G7EgCKWJLJzQ",
        "outputId": "81ca5429-8ff1-4896-d74c-62b569204e19"
      },
      "execution_count": null,
      "outputs": [
        {
          "output_type": "display_data",
          "data": {
            "image/png": "[encoded data removed]",
            "text/plain": [
              "<Figure size 432x288 with 1 Axes>"
            ]
          },
          "metadata": {
            "needs_background": "light"
          }
        }
      ]
    },
    {
      "cell_type": "code",
      "source": [
        "plt.plot(train_loss_history3,c=\"r\")\n",
        "plt.plot(val_loss_history3,c='b')\n",
        "plt.xlabel(\"Epochs\")\n",
        "plt.ylabel(\"Loss\")\n",
        "plt.legend(['Training Loss','Validation Loss'])\n",
        "plt.show()"
      ],
      "metadata": {
        "colab": {
          "base_uri": "https://localhost:8080/",
          "height": 282
        },
        "id": "xLvl-1ZKLMtl",
        "outputId": "0e66572d-15a1-471c-8617-df258fec4a87"
      },
      "execution_count": null,
      "outputs": [
        {
          "output_type": "display_data",
          "data": {
            "image/png": "[encoded data removed]",
            "text/plain": [
              "<Figure size 432x288 with 1 Axes>"
            ]
          },
          "metadata": {
            "needs_background": "light"
          }
        }
      ]
    },
    {
      "cell_type": "code",
      "source": [
        ""
      ],
      "metadata": {
        "id": "HeNACJpXLQm0"
      },
      "execution_count": null,
      "outputs": []
    }
  ]
}